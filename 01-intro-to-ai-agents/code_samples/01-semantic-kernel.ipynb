{
 "cells": [
  {
   "cell_type": "markdown",
   "metadata": {},
   "source": [
    "# Semantic Kernel \n",
    "\n",
    "In this code sample, you will use the [Semantic Kernel](https://aka.ms/ai-agents-beginners/semantic-kernel) AI Framework to create a basic agent. \n",
    "\n",
    "The goal of this sample is to show you the steps that we will later use in the additional code samples when implementing the different agentic patterns. "
   ]
  },
  {
   "cell_type": "markdown",
   "metadata": {},
   "source": [
    "## Import the Needed Python Packages "
   ]
  },
  {
   "cell_type": "code",
   "execution_count": 1,
   "metadata": {},
   "outputs": [
    {
     "data": {
      "text/plain": [
       "['Requirement already satisfied: openai in c:\\\\users\\\\anuj\\\\appdata\\\\local\\\\programs\\\\python\\\\python311\\\\lib\\\\site-packages (1.81.0)',\n",
       " 'Requirement already satisfied: semantic-kernel in c:\\\\users\\\\anuj\\\\appdata\\\\local\\\\programs\\\\python\\\\python311\\\\lib\\\\site-packages (1.31.0)',\n",
       " 'Requirement already satisfied: python-dotenv in c:\\\\users\\\\anuj\\\\appdata\\\\local\\\\programs\\\\python\\\\python311\\\\lib\\\\site-packages (1.1.0)',\n",
       " 'Requirement already satisfied: anyio<5,>=3.5.0 in c:\\\\users\\\\anuj\\\\appdata\\\\local\\\\programs\\\\python\\\\python311\\\\lib\\\\site-packages (from openai) (4.9.0)',\n",
       " 'Requirement already satisfied: distro<2,>=1.7.0 in c:\\\\users\\\\anuj\\\\appdata\\\\local\\\\programs\\\\python\\\\python311\\\\lib\\\\site-packages (from openai) (1.9.0)',\n",
       " 'Requirement already satisfied: httpx<1,>=0.23.0 in c:\\\\users\\\\anuj\\\\appdata\\\\local\\\\programs\\\\python\\\\python311\\\\lib\\\\site-packages (from openai) (0.28.1)',\n",
       " 'Requirement already satisfied: jiter<1,>=0.4.0 in c:\\\\users\\\\anuj\\\\appdata\\\\local\\\\programs\\\\python\\\\python311\\\\lib\\\\site-packages (from openai) (0.10.0)',\n",
       " 'Requirement already satisfied: pydantic<3,>=1.9.0 in c:\\\\users\\\\anuj\\\\appdata\\\\local\\\\programs\\\\python\\\\python311\\\\lib\\\\site-packages (from openai) (2.11.4)',\n",
       " 'Requirement already satisfied: sniffio in c:\\\\users\\\\anuj\\\\appdata\\\\local\\\\programs\\\\python\\\\python311\\\\lib\\\\site-packages (from openai) (1.3.1)',\n",
       " 'Requirement already satisfied: tqdm>4 in c:\\\\users\\\\anuj\\\\appdata\\\\local\\\\programs\\\\python\\\\python311\\\\lib\\\\site-packages (from openai) (4.67.1)',\n",
       " 'Requirement already satisfied: typing-extensions<5,>=4.11 in c:\\\\users\\\\anuj\\\\appdata\\\\roaming\\\\python\\\\python311\\\\site-packages (from openai) (4.13.2)',\n",
       " 'Requirement already satisfied: aiohttp~=3.8 in c:\\\\users\\\\anuj\\\\appdata\\\\local\\\\programs\\\\python\\\\python311\\\\lib\\\\site-packages (from semantic-kernel) (3.11.18)',\n",
       " 'Requirement already satisfied: cloudevents~=1.0 in c:\\\\users\\\\anuj\\\\appdata\\\\local\\\\programs\\\\python\\\\python311\\\\lib\\\\site-packages (from semantic-kernel) (1.11.0)',\n",
       " 'Requirement already satisfied: pydantic-settings~=2.0 in c:\\\\users\\\\anuj\\\\appdata\\\\local\\\\programs\\\\python\\\\python311\\\\lib\\\\site-packages (from semantic-kernel) (2.9.1)',\n",
       " 'Requirement already satisfied: defusedxml~=0.7 in c:\\\\users\\\\anuj\\\\appdata\\\\local\\\\programs\\\\python\\\\python311\\\\lib\\\\site-packages (from semantic-kernel) (0.7.1)',\n",
       " 'Requirement already satisfied: azure-identity>=1.13 in c:\\\\users\\\\anuj\\\\appdata\\\\local\\\\programs\\\\python\\\\python311\\\\lib\\\\site-packages (from semantic-kernel) (1.23.0)',\n",
       " 'Requirement already satisfied: numpy>=1.25.0 in c:\\\\users\\\\anuj\\\\appdata\\\\local\\\\programs\\\\python\\\\python311\\\\lib\\\\site-packages (from semantic-kernel) (2.2.5)',\n",
       " 'Requirement already satisfied: openapi_core<0.20,>=0.18 in c:\\\\users\\\\anuj\\\\appdata\\\\local\\\\programs\\\\python\\\\python311\\\\lib\\\\site-packages (from semantic-kernel) (0.19.5)',\n",
       " 'Requirement already satisfied: websockets<16,>=13 in c:\\\\users\\\\anuj\\\\appdata\\\\local\\\\programs\\\\python\\\\python311\\\\lib\\\\site-packages (from semantic-kernel) (15.0.1)',\n",
       " 'Requirement already satisfied: aiortc>=1.9.0 in c:\\\\users\\\\anuj\\\\appdata\\\\local\\\\programs\\\\python\\\\python311\\\\lib\\\\site-packages (from semantic-kernel) (1.12.0)',\n",
       " 'Requirement already satisfied: opentelemetry-api~=1.24 in c:\\\\users\\\\anuj\\\\appdata\\\\local\\\\programs\\\\python\\\\python311\\\\lib\\\\site-packages (from semantic-kernel) (1.33.1)',\n",
       " 'Requirement already satisfied: opentelemetry-sdk~=1.24 in c:\\\\users\\\\anuj\\\\appdata\\\\local\\\\programs\\\\python\\\\python311\\\\lib\\\\site-packages (from semantic-kernel) (1.33.1)',\n",
       " 'Requirement already satisfied: prance<25.4.9,>=23.6.21 in c:\\\\users\\\\anuj\\\\appdata\\\\local\\\\programs\\\\python\\\\python311\\\\lib\\\\site-packages (from semantic-kernel) (25.4.8.0)',\n",
       " 'Requirement already satisfied: pybars4~=0.9 in c:\\\\users\\\\anuj\\\\appdata\\\\local\\\\programs\\\\python\\\\python311\\\\lib\\\\site-packages (from semantic-kernel) (0.9.13)',\n",
       " 'Requirement already satisfied: jinja2~=3.1 in c:\\\\users\\\\anuj\\\\appdata\\\\local\\\\programs\\\\python\\\\python311\\\\lib\\\\site-packages (from semantic-kernel) (3.1.6)',\n",
       " 'Requirement already satisfied: nest-asyncio~=1.6 in c:\\\\users\\\\anuj\\\\appdata\\\\roaming\\\\python\\\\python311\\\\site-packages (from semantic-kernel) (1.6.0)',\n",
       " 'Requirement already satisfied: scipy>=1.15.1 in c:\\\\users\\\\anuj\\\\appdata\\\\local\\\\programs\\\\python\\\\python311\\\\lib\\\\site-packages (from semantic-kernel) (1.15.3)',\n",
       " 'Requirement already satisfied: protobuf in c:\\\\users\\\\anuj\\\\appdata\\\\local\\\\programs\\\\python\\\\python311\\\\lib\\\\site-packages (from semantic-kernel) (5.29.4)',\n",
       " 'Requirement already satisfied: aiohappyeyeballs>=2.3.0 in c:\\\\users\\\\anuj\\\\appdata\\\\local\\\\programs\\\\python\\\\python311\\\\lib\\\\site-packages (from aiohttp~=3.8->semantic-kernel) (2.6.1)',\n",
       " 'Requirement already satisfied: aiosignal>=1.1.2 in c:\\\\users\\\\anuj\\\\appdata\\\\local\\\\programs\\\\python\\\\python311\\\\lib\\\\site-packages (from aiohttp~=3.8->semantic-kernel) (1.3.2)',\n",
       " 'Requirement already satisfied: attrs>=17.3.0 in c:\\\\users\\\\anuj\\\\appdata\\\\local\\\\programs\\\\python\\\\python311\\\\lib\\\\site-packages (from aiohttp~=3.8->semantic-kernel) (25.3.0)',\n",
       " 'Requirement already satisfied: frozenlist>=1.1.1 in c:\\\\users\\\\anuj\\\\appdata\\\\local\\\\programs\\\\python\\\\python311\\\\lib\\\\site-packages (from aiohttp~=3.8->semantic-kernel) (1.6.0)',\n",
       " 'Requirement already satisfied: multidict<7.0,>=4.5 in c:\\\\users\\\\anuj\\\\appdata\\\\local\\\\programs\\\\python\\\\python311\\\\lib\\\\site-packages (from aiohttp~=3.8->semantic-kernel) (6.4.4)',\n",
       " 'Requirement already satisfied: propcache>=0.2.0 in c:\\\\users\\\\anuj\\\\appdata\\\\local\\\\programs\\\\python\\\\python311\\\\lib\\\\site-packages (from aiohttp~=3.8->semantic-kernel) (0.3.1)',\n",
       " 'Requirement already satisfied: yarl<2.0,>=1.17.0 in c:\\\\users\\\\anuj\\\\appdata\\\\local\\\\programs\\\\python\\\\python311\\\\lib\\\\site-packages (from aiohttp~=3.8->semantic-kernel) (1.20.0)',\n",
       " 'Requirement already satisfied: aioice<1.0.0,>=0.10.1 in c:\\\\users\\\\anuj\\\\appdata\\\\local\\\\programs\\\\python\\\\python311\\\\lib\\\\site-packages (from aiortc>=1.9.0->semantic-kernel) (0.10.1)',\n",
       " 'Requirement already satisfied: av<15.0.0,>=14.0.0 in c:\\\\users\\\\anuj\\\\appdata\\\\local\\\\programs\\\\python\\\\python311\\\\lib\\\\site-packages (from aiortc>=1.9.0->semantic-kernel) (14.4.0)',\n",
       " 'Requirement already satisfied: cffi>=1.0.0 in c:\\\\users\\\\anuj\\\\appdata\\\\local\\\\programs\\\\python\\\\python311\\\\lib\\\\site-packages (from aiortc>=1.9.0->semantic-kernel) (1.17.1)',\n",
       " 'Requirement already satisfied: cryptography>=44.0.0 in c:\\\\users\\\\anuj\\\\appdata\\\\local\\\\programs\\\\python\\\\python311\\\\lib\\\\site-packages (from aiortc>=1.9.0->semantic-kernel) (45.0.2)',\n",
       " 'Requirement already satisfied: google-crc32c>=1.1 in c:\\\\users\\\\anuj\\\\appdata\\\\local\\\\programs\\\\python\\\\python311\\\\lib\\\\site-packages (from aiortc>=1.9.0->semantic-kernel) (1.7.1)',\n",
       " 'Requirement already satisfied: pyee>=13.0.0 in c:\\\\users\\\\anuj\\\\appdata\\\\local\\\\programs\\\\python\\\\python311\\\\lib\\\\site-packages (from aiortc>=1.9.0->semantic-kernel) (13.0.0)',\n",
       " 'Requirement already satisfied: pylibsrtp>=0.10.0 in c:\\\\users\\\\anuj\\\\appdata\\\\local\\\\programs\\\\python\\\\python311\\\\lib\\\\site-packages (from aiortc>=1.9.0->semantic-kernel) (0.12.0)',\n",
       " 'Requirement already satisfied: pyopenssl>=25.0.0 in c:\\\\users\\\\anuj\\\\appdata\\\\local\\\\programs\\\\python\\\\python311\\\\lib\\\\site-packages (from aiortc>=1.9.0->semantic-kernel) (25.1.0)',\n",
       " 'Requirement already satisfied: idna>=2.8 in c:\\\\users\\\\anuj\\\\appdata\\\\local\\\\programs\\\\python\\\\python311\\\\lib\\\\site-packages (from anyio<5,>=3.5.0->openai) (3.10)',\n",
       " 'Requirement already satisfied: azure-core>=1.31.0 in c:\\\\users\\\\anuj\\\\appdata\\\\local\\\\programs\\\\python\\\\python311\\\\lib\\\\site-packages (from azure-identity>=1.13->semantic-kernel) (1.34.0)',\n",
       " 'Requirement already satisfied: msal>=1.30.0 in c:\\\\users\\\\anuj\\\\appdata\\\\local\\\\programs\\\\python\\\\python311\\\\lib\\\\site-packages (from azure-identity>=1.13->semantic-kernel) (1.32.3)',\n",
       " 'Requirement already satisfied: msal-extensions>=1.2.0 in c:\\\\users\\\\anuj\\\\appdata\\\\local\\\\programs\\\\python\\\\python311\\\\lib\\\\site-packages (from azure-identity>=1.13->semantic-kernel) (1.3.1)',\n",
       " 'Requirement already satisfied: deprecation<3.0,>=2.0 in c:\\\\users\\\\anuj\\\\appdata\\\\local\\\\programs\\\\python\\\\python311\\\\lib\\\\site-packages (from cloudevents~=1.0->semantic-kernel) (2.1.0)',\n",
       " 'Requirement already satisfied: certifi in c:\\\\users\\\\anuj\\\\appdata\\\\local\\\\programs\\\\python\\\\python311\\\\lib\\\\site-packages (from httpx<1,>=0.23.0->openai) (2025.4.26)',\n",
       " 'Requirement already satisfied: httpcore==1.* in c:\\\\users\\\\anuj\\\\appdata\\\\local\\\\programs\\\\python\\\\python311\\\\lib\\\\site-packages (from httpx<1,>=0.23.0->openai) (1.0.9)',\n",
       " 'Requirement already satisfied: h11>=0.16 in c:\\\\users\\\\anuj\\\\appdata\\\\local\\\\programs\\\\python\\\\python311\\\\lib\\\\site-packages (from httpcore==1.*->httpx<1,>=0.23.0->openai) (0.16.0)',\n",
       " 'Requirement already satisfied: MarkupSafe>=2.0 in c:\\\\users\\\\anuj\\\\appdata\\\\local\\\\programs\\\\python\\\\python311\\\\lib\\\\site-packages (from jinja2~=3.1->semantic-kernel) (3.0.2)',\n",
       " 'Requirement already satisfied: isodate in c:\\\\users\\\\anuj\\\\appdata\\\\local\\\\programs\\\\python\\\\python311\\\\lib\\\\site-packages (from openapi_core<0.20,>=0.18->semantic-kernel) (0.7.2)',\n",
       " 'Requirement already satisfied: jsonschema<5.0.0,>=4.18.0 in c:\\\\users\\\\anuj\\\\appdata\\\\local\\\\programs\\\\python\\\\python311\\\\lib\\\\site-packages (from openapi_core<0.20,>=0.18->semantic-kernel) (4.23.0)',\n",
       " 'Requirement already satisfied: jsonschema-path<0.4.0,>=0.3.1 in c:\\\\users\\\\anuj\\\\appdata\\\\local\\\\programs\\\\python\\\\python311\\\\lib\\\\site-packages (from openapi_core<0.20,>=0.18->semantic-kernel) (0.3.4)',\n",
       " 'Requirement already satisfied: more-itertools in c:\\\\users\\\\anuj\\\\appdata\\\\local\\\\programs\\\\python\\\\python311\\\\lib\\\\site-packages (from openapi_core<0.20,>=0.18->semantic-kernel) (10.7.0)',\n",
       " 'Requirement already satisfied: openapi-schema-validator<0.7.0,>=0.6.0 in c:\\\\users\\\\anuj\\\\appdata\\\\local\\\\programs\\\\python\\\\python311\\\\lib\\\\site-packages (from openapi_core<0.20,>=0.18->semantic-kernel) (0.6.3)',\n",
       " 'Requirement already satisfied: openapi-spec-validator<0.8.0,>=0.7.1 in c:\\\\users\\\\anuj\\\\appdata\\\\local\\\\programs\\\\python\\\\python311\\\\lib\\\\site-packages (from openapi_core<0.20,>=0.18->semantic-kernel) (0.7.1)',\n",
       " 'Requirement already satisfied: parse in c:\\\\users\\\\anuj\\\\appdata\\\\local\\\\programs\\\\python\\\\python311\\\\lib\\\\site-packages (from openapi_core<0.20,>=0.18->semantic-kernel) (1.20.2)',\n",
       " 'Requirement already satisfied: werkzeug<3.1.2 in c:\\\\users\\\\anuj\\\\appdata\\\\local\\\\programs\\\\python\\\\python311\\\\lib\\\\site-packages (from openapi_core<0.20,>=0.18->semantic-kernel) (3.1.1)',\n",
       " 'Requirement already satisfied: deprecated>=1.2.6 in c:\\\\users\\\\anuj\\\\appdata\\\\local\\\\programs\\\\python\\\\python311\\\\lib\\\\site-packages (from opentelemetry-api~=1.24->semantic-kernel) (1.2.18)',\n",
       " 'Requirement already satisfied: importlib-metadata<8.7.0,>=6.0 in c:\\\\users\\\\anuj\\\\appdata\\\\local\\\\programs\\\\python\\\\python311\\\\lib\\\\site-packages (from opentelemetry-api~=1.24->semantic-kernel) (8.6.1)',\n",
       " 'Requirement already satisfied: opentelemetry-semantic-conventions==0.54b1 in c:\\\\users\\\\anuj\\\\appdata\\\\local\\\\programs\\\\python\\\\python311\\\\lib\\\\site-packages (from opentelemetry-sdk~=1.24->semantic-kernel) (0.54b1)',\n",
       " 'Requirement already satisfied: chardet>=5.2 in c:\\\\users\\\\anuj\\\\appdata\\\\local\\\\programs\\\\python\\\\python311\\\\lib\\\\site-packages (from prance<25.4.9,>=23.6.21->semantic-kernel) (5.2.0)',\n",
       " 'Requirement already satisfied: ruamel.yaml>=0.18.10 in c:\\\\users\\\\anuj\\\\appdata\\\\local\\\\programs\\\\python\\\\python311\\\\lib\\\\site-packages (from prance<25.4.9,>=23.6.21->semantic-kernel) (0.18.10)',\n",
       " 'Requirement already satisfied: requests>=2.32.3 in c:\\\\users\\\\anuj\\\\appdata\\\\local\\\\programs\\\\python\\\\python311\\\\lib\\\\site-packages (from prance<25.4.9,>=23.6.21->semantic-kernel) (2.32.3)',\n",
       " 'Requirement already satisfied: packaging>=24.2 in c:\\\\users\\\\anuj\\\\appdata\\\\local\\\\programs\\\\python\\\\python311\\\\lib\\\\site-packages (from prance<25.4.9,>=23.6.21->semantic-kernel) (24.2)',\n",
       " 'Requirement already satisfied: PyMeta3>=0.5.1 in c:\\\\users\\\\anuj\\\\appdata\\\\local\\\\programs\\\\python\\\\python311\\\\lib\\\\site-packages (from pybars4~=0.9->semantic-kernel) (0.5.1)',\n",
       " 'Requirement already satisfied: annotated-types>=0.6.0 in c:\\\\users\\\\anuj\\\\appdata\\\\local\\\\programs\\\\python\\\\python311\\\\lib\\\\site-packages (from pydantic<3,>=1.9.0->openai) (0.7.0)',\n",
       " 'Requirement already satisfied: pydantic-core==2.33.2 in c:\\\\users\\\\anuj\\\\appdata\\\\local\\\\programs\\\\python\\\\python311\\\\lib\\\\site-packages (from pydantic<3,>=1.9.0->openai) (2.33.2)',\n",
       " 'Requirement already satisfied: typing-inspection>=0.4.0 in c:\\\\users\\\\anuj\\\\appdata\\\\local\\\\programs\\\\python\\\\python311\\\\lib\\\\site-packages (from pydantic<3,>=1.9.0->openai) (0.4.0)',\n",
       " 'Requirement already satisfied: colorama in c:\\\\users\\\\anuj\\\\appdata\\\\roaming\\\\python\\\\python311\\\\site-packages (from tqdm>4->openai) (0.4.6)',\n",
       " 'Requirement already satisfied: dnspython>=2.0.0 in c:\\\\users\\\\anuj\\\\appdata\\\\local\\\\programs\\\\python\\\\python311\\\\lib\\\\site-packages (from aioice<1.0.0,>=0.10.1->aiortc>=1.9.0->semantic-kernel) (2.7.0)',\n",
       " 'Requirement already satisfied: ifaddr>=0.2.0 in c:\\\\users\\\\anuj\\\\appdata\\\\local\\\\programs\\\\python\\\\python311\\\\lib\\\\site-packages (from aioice<1.0.0,>=0.10.1->aiortc>=1.9.0->semantic-kernel) (0.2.0)',\n",
       " 'Requirement already satisfied: six>=1.11.0 in c:\\\\users\\\\anuj\\\\appdata\\\\local\\\\programs\\\\python\\\\python311\\\\lib\\\\site-packages (from azure-core>=1.31.0->azure-identity>=1.13->semantic-kernel) (1.17.0)',\n",
       " 'Requirement already satisfied: pycparser in c:\\\\users\\\\anuj\\\\appdata\\\\local\\\\programs\\\\python\\\\python311\\\\lib\\\\site-packages (from cffi>=1.0.0->aiortc>=1.9.0->semantic-kernel) (2.22)',\n",
       " 'Requirement already satisfied: wrapt<2,>=1.10 in c:\\\\users\\\\anuj\\\\appdata\\\\local\\\\programs\\\\python\\\\python311\\\\lib\\\\site-packages (from deprecated>=1.2.6->opentelemetry-api~=1.24->semantic-kernel) (1.17.2)',\n",
       " 'Requirement already satisfied: zipp>=3.20 in c:\\\\users\\\\anuj\\\\appdata\\\\local\\\\programs\\\\python\\\\python311\\\\lib\\\\site-packages (from importlib-metadata<8.7.0,>=6.0->opentelemetry-api~=1.24->semantic-kernel) (3.21.0)',\n",
       " 'Requirement already satisfied: jsonschema-specifications>=2023.03.6 in c:\\\\users\\\\anuj\\\\appdata\\\\local\\\\programs\\\\python\\\\python311\\\\lib\\\\site-packages (from jsonschema<5.0.0,>=4.18.0->openapi_core<0.20,>=0.18->semantic-kernel) (2025.4.1)',\n",
       " 'Requirement already satisfied: referencing>=0.28.4 in c:\\\\users\\\\anuj\\\\appdata\\\\local\\\\programs\\\\python\\\\python311\\\\lib\\\\site-packages (from jsonschema<5.0.0,>=4.18.0->openapi_core<0.20,>=0.18->semantic-kernel) (0.36.2)',\n",
       " 'Requirement already satisfied: rpds-py>=0.7.1 in c:\\\\users\\\\anuj\\\\appdata\\\\local\\\\programs\\\\python\\\\python311\\\\lib\\\\site-packages (from jsonschema<5.0.0,>=4.18.0->openapi_core<0.20,>=0.18->semantic-kernel) (0.25.0)',\n",
       " 'Requirement already satisfied: PyYAML>=5.1 in c:\\\\users\\\\anuj\\\\appdata\\\\local\\\\programs\\\\python\\\\python311\\\\lib\\\\site-packages (from jsonschema-path<0.4.0,>=0.3.1->openapi_core<0.20,>=0.18->semantic-kernel) (6.0.2)',\n",
       " 'Requirement already satisfied: pathable<0.5.0,>=0.4.1 in c:\\\\users\\\\anuj\\\\appdata\\\\local\\\\programs\\\\python\\\\python311\\\\lib\\\\site-packages (from jsonschema-path<0.4.0,>=0.3.1->openapi_core<0.20,>=0.18->semantic-kernel) (0.4.4)',\n",
       " 'Requirement already satisfied: PyJWT[crypto]<3,>=1.0.0 in c:\\\\users\\\\anuj\\\\appdata\\\\local\\\\programs\\\\python\\\\python311\\\\lib\\\\site-packages (from msal>=1.30.0->azure-identity>=1.13->semantic-kernel) (2.10.1)',\n",
       " 'Requirement already satisfied: rfc3339-validator in c:\\\\users\\\\anuj\\\\appdata\\\\local\\\\programs\\\\python\\\\python311\\\\lib\\\\site-packages (from openapi-schema-validator<0.7.0,>=0.6.0->openapi_core<0.20,>=0.18->semantic-kernel) (0.1.4)',\n",
       " 'Requirement already satisfied: lazy-object-proxy<2.0.0,>=1.7.1 in c:\\\\users\\\\anuj\\\\appdata\\\\local\\\\programs\\\\python\\\\python311\\\\lib\\\\site-packages (from openapi-spec-validator<0.8.0,>=0.7.1->openapi_core<0.20,>=0.18->semantic-kernel) (1.11.0)',\n",
       " 'Requirement already satisfied: charset-normalizer<4,>=2 in c:\\\\users\\\\anuj\\\\appdata\\\\local\\\\programs\\\\python\\\\python311\\\\lib\\\\site-packages (from requests>=2.32.3->prance<25.4.9,>=23.6.21->semantic-kernel) (3.4.2)',\n",
       " 'Requirement already satisfied: urllib3<3,>=1.21.1 in c:\\\\users\\\\anuj\\\\appdata\\\\local\\\\programs\\\\python\\\\python311\\\\lib\\\\site-packages (from requests>=2.32.3->prance<25.4.9,>=23.6.21->semantic-kernel) (2.4.0)',\n",
       " 'Requirement already satisfied: ruamel.yaml.clib>=0.2.7 in c:\\\\users\\\\anuj\\\\appdata\\\\local\\\\programs\\\\python\\\\python311\\\\lib\\\\site-packages (from ruamel.yaml>=0.18.10->prance<25.4.9,>=23.6.21->semantic-kernel) (0.2.12)',\n",
       " '',\n",
       " '[notice] A new release of pip is available: 23.2.1 -> 25.1.1',\n",
       " '[notice] To update, run: python.exe -m pip install --upgrade pip']"
      ]
     },
     "execution_count": 1,
     "metadata": {},
     "output_type": "execute_result"
    }
   ],
   "source": [
    "!!pip install openai semantic-kernel python-dotenv --upgrade\n",
    "\n"
   ]
  },
  {
   "cell_type": "code",
   "execution_count": 2,
   "metadata": {},
   "outputs": [],
   "source": [
    "import os \n",
    "from typing import Annotated\n",
    "from openai import AsyncOpenAI\n",
    "\n",
    "from dotenv import load_dotenv\n",
    "\n",
    "from semantic_kernel.agents import ChatCompletionAgent, ChatHistoryAgentThread\n",
    "from semantic_kernel.connectors.ai.open_ai import OpenAIChatCompletion\n",
    "from semantic_kernel.functions import kernel_function"
   ]
  },
  {
   "cell_type": "markdown",
   "metadata": {},
   "source": [
    "## Creating the Client\n",
    "\n",
    "In this sample, we will use [GitHub Models](https://aka.ms/ai-agents-beginners/github-models) for access to the LLM. \n",
    "\n",
    "The `ai_model_id` is defined as `gpt-4o-mini`. Try changing the model to another model available on the GitHub Models marketplace to see the different results. \n",
    "\n",
    "For us to use the `Azure Inference SDK` that is used for the `base_url` for GitHub Models, we will use the `OpenAIChatCompletion` connector within Semantic Kernel. There are also other [available connectors](https://learn.microsoft.com/semantic-kernel/concepts/ai-services/chat-completion) to use Semantic Kernel for other model providers."
   ]
  },
  {
   "cell_type": "code",
   "execution_count": 3,
   "metadata": {},
   "outputs": [],
   "source": [
    "import random   \n",
    "\n",
    "# Define a sample plugin for the sample\n",
    "\n",
    "class DestinationsPlugin:\n",
    "    \"\"\"A List of Random Destinations for a vacation.\"\"\"\n",
    "\n",
    "    def __init__(self):\n",
    "        # List of vacation destinations\n",
    "        self.destinations = [\n",
    "            \"Barcelona, Spain\",\n",
    "            \"Paris, France\",\n",
    "            \"Berlin, Germany\",\n",
    "            \"Tokyo, Japan\",\n",
    "            \"Sydney, Australia\",\n",
    "            \"New York, USA\",\n",
    "            \"Cairo, Egypt\",\n",
    "            \"Cape Town, South Africa\",\n",
    "            \"Rio de Janeiro, Brazil\",\n",
    "            \"Bali, Indonesia\"\n",
    "        ]\n",
    "        # Track last destination to avoid repeats\n",
    "        self.last_destination = None\n",
    "\n",
    "    @kernel_function(description=\"Provides a random vacation destination.\")\n",
    "    def get_random_destination(self) -> Annotated[str, \"Returns a random vacation destination.\"]:\n",
    "        # Get available destinations (excluding last one if possible)\n",
    "        available_destinations = self.destinations.copy()\n",
    "        if self.last_destination and len(available_destinations) > 1:\n",
    "            available_destinations.remove(self.last_destination)\n",
    "\n",
    "        # Select a random destination\n",
    "        destination = random.choice(available_destinations)\n",
    "\n",
    "        # Update the last destination\n",
    "        self.last_destination = destination\n",
    "\n",
    "        return destination"
   ]
  },
  {
   "cell_type": "code",
   "execution_count": 4,
   "metadata": {},
   "outputs": [],
   "source": [
    "load_dotenv()\n",
    "client = AsyncOpenAI(\n",
    "    api_key=os.environ.get(\"GITHUB_TOKEN\"), \n",
    "    base_url=\"https://models.inference.ai.azure.com/\",\n",
    ")\n",
    "\n",
    "# Create an AI Service that will be used by the `ChatCompletionAgent`\n",
    "chat_completion_service = OpenAIChatCompletion(\n",
    "    ai_model_id=\"gpt-4o-mini\",\n",
    "    async_client=client,\n",
    ")"
   ]
  },
  {
   "cell_type": "markdown",
   "metadata": {},
   "source": [
    "## Creating the Agent \n",
    "\n",
    "Below we create the Agent called `TravelAgent`.\n",
    "\n",
    "For this example, we are using very simple instructions. You can change these instructions to see how the agent responds differently. "
   ]
  },
  {
   "cell_type": "code",
   "execution_count": 5,
   "metadata": {},
   "outputs": [],
   "source": [
    "agent = ChatCompletionAgent(\n",
    "    service=chat_completion_service, \n",
    "    plugins=[DestinationsPlugin()],\n",
    "    name=\"TravelAgent\",\n",
    "    instructions=\"You are a helpful AI Agent that can help plan vacations for customers at random destinations\",\n",
    ")"
   ]
  },
  {
   "cell_type": "markdown",
   "metadata": {},
   "source": [
    "## Running the Agent\n",
    "\n",
    "Now we can run the Agent by defining a thread of type `ChatHistoryAgentThread`.  Any required system messages are provided to the agent's invoke_stream `messages` keyword argument.\n",
    "\n",
    "After these are defined, we create a `user_inputs` that will be what the user is sending to the agent. In this case, we have set this message to `Plan me a sunny vacation`. \n",
    "\n",
    "Feel free to change this message to see how the agent responds differently. "
   ]
  },
  {
   "cell_type": "code",
   "execution_count": 6,
   "metadata": {},
   "outputs": [
    {
     "name": "stdout",
     "output_type": "stream",
     "text": [
      "# User: Plan me a day trip.\n",
      "\n",
      "# TravelAgent: I've planned a day trip for you to Sydney, Australia! Here’s a suggested itinerary:\n",
      "\n",
      "### Morning\n",
      "- **Breakfast at The Grounds of Alexandria**: Start your day with a delicious breakfast at this popular café known for its farm-to-table ethos and beautiful garden setting.\n",
      "- **Sydney Opera House Tour**: After breakfast, head to the iconic Sydney Opera House. Take a guided tour to learn about its architecture and history.\n",
      "\n",
      "### Midday\n",
      "- **Lunch at Circular Quay**: Enjoy lunch at one of the many restaurants around Circular Quay. Try seafood for a true Australian experience!\n",
      "- **Ferry to Manly Beach**: After lunch, catch a ferry from Circular Quay to Manly Beach. Enjoy the scenic views of the Sydney Harbour along the way.\n",
      "\n",
      "### Afternoon\n",
      "- **Explore Manly Beach**: Spend some time relaxing at the beach, or take a walk along the coastal path to enjoy stunning ocean views.\n",
      "- **Visit the Manly SEA LIFE Sanctuary**: If you're interested in marine life, check out the SEA LIFE Sanctuary to see Australian sea life up close.\n",
      "\n",
      "### Evening\n",
      "- **Dinner at Manly**: Dine at a beachfront restaurant, enjoying fresh seafood with a sunset view.\n",
      "- **Ferry Back to Sydney**: Take the ferry back to the city and enjoy the skyline at night.\n",
      "\n",
      "### Optional Night Activity\n",
      "- **Sydney Harbour Bridge Climb**: If you’re up for an adventure, consider climbing the Sydney Harbour Bridge for breathtaking views of the city.\n",
      "\n",
      "Let me know if you need any more details or adjustments to this plan!\n"
     ]
    }
   ],
   "source": [
    "async def main():\n",
    "    # Create a new thread for the agent\n",
    "    # If no thread is provided, a new thread will be\n",
    "    # created and returned with the initial response\n",
    "    thread: ChatHistoryAgentThread | None = None\n",
    "\n",
    "    user_inputs = [\n",
    "        \"Plan me a day trip.\",\n",
    "    ]\n",
    "\n",
    "    for user_input in user_inputs:\n",
    "        print(f\"# User: {user_input}\\n\")\n",
    "        first_chunk = True\n",
    "        async for response in agent.invoke_stream(\n",
    "            messages=user_input, thread=thread,\n",
    "        ):\n",
    "            # 5. Print the response\n",
    "            if first_chunk:\n",
    "                print(f\"# {response.name}: \", end=\"\", flush=True)\n",
    "                first_chunk = False\n",
    "            print(f\"{response}\", end=\"\", flush=True)\n",
    "            thread = response.thread\n",
    "        print()\n",
    "\n",
    "    # Clean up the thread\n",
    "    await thread.delete() if thread else None\n",
    "\n",
    "await main()"
   ]
  }
 ],
 "metadata": {
  "kernelspec": {
   "display_name": "Python 3",
   "language": "python",
   "name": "python3"
  },
  "language_info": {
   "codemirror_mode": {
    "name": "ipython",
    "version": 3
   },
   "file_extension": ".py",
   "mimetype": "text/x-python",
   "name": "python",
   "nbconvert_exporter": "python",
   "pygments_lexer": "ipython3",
   "version": "3.11.5"
  }
 },
 "nbformat": 4,
 "nbformat_minor": 2
}
