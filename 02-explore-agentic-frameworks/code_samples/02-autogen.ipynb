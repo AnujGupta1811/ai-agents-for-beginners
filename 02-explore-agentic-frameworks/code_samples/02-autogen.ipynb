{
 "cells": [
  {
   "cell_type": "markdown",
   "metadata": {},
   "source": [
    "# AutoGen Basic Sample \n",
    "\n",
    "In this code sample, you will use the [AutoGen](https://aka.ms/ai-agents/autogen) AI Framework to create a basic agent. \n",
    "\n",
    "The goal of this sample is to show you the steps that we will later use in the additional code samples when implementing the different agentic patterns. "
   ]
  },
  {
   "cell_type": "markdown",
   "metadata": {},
   "source": [
    "## Import the Needed Python Packages "
   ]
  },
  {
   "cell_type": "code",
   "execution_count": 1,
   "metadata": {},
   "outputs": [
    {
     "data": {
      "text/plain": [
       "['Collecting azure-ai-inference',\n",
       " '  Obtaining dependency information for azure-ai-inference from https://files.pythonhosted.org/packages/4f/0f/27520da74769db6e58327d96c98e7b9a07ce686dff582c9a5ec60b03f9dd/azure_ai_inference-1.0.0b9-py3-none-any.whl.metadata',\n",
       " '  Using cached azure_ai_inference-1.0.0b9-py3-none-any.whl.metadata (34 kB)',\n",
       " 'Requirement already satisfied: isodate>=0.6.1 in c:\\\\users\\\\anuj\\\\appdata\\\\local\\\\programs\\\\python\\\\python311\\\\lib\\\\site-packages (from azure-ai-inference) (0.7.2)',\n",
       " 'Requirement already satisfied: azure-core>=1.30.0 in c:\\\\users\\\\anuj\\\\appdata\\\\local\\\\programs\\\\python\\\\python311\\\\lib\\\\site-packages (from azure-ai-inference) (1.34.0)',\n",
       " 'Requirement already satisfied: typing-extensions>=4.6.0 in c:\\\\users\\\\anuj\\\\appdata\\\\roaming\\\\python\\\\python311\\\\site-packages (from azure-ai-inference) (4.13.2)',\n",
       " 'Requirement already satisfied: requests>=2.21.0 in c:\\\\users\\\\anuj\\\\appdata\\\\local\\\\programs\\\\python\\\\python311\\\\lib\\\\site-packages (from azure-core>=1.30.0->azure-ai-inference) (2.32.3)',\n",
       " 'Requirement already satisfied: six>=1.11.0 in c:\\\\users\\\\anuj\\\\appdata\\\\local\\\\programs\\\\python\\\\python311\\\\lib\\\\site-packages (from azure-core>=1.30.0->azure-ai-inference) (1.17.0)',\n",
       " 'Requirement already satisfied: charset-normalizer<4,>=2 in c:\\\\users\\\\anuj\\\\appdata\\\\local\\\\programs\\\\python\\\\python311\\\\lib\\\\site-packages (from requests>=2.21.0->azure-core>=1.30.0->azure-ai-inference) (3.4.2)',\n",
       " 'Requirement already satisfied: idna<4,>=2.5 in c:\\\\users\\\\anuj\\\\appdata\\\\local\\\\programs\\\\python\\\\python311\\\\lib\\\\site-packages (from requests>=2.21.0->azure-core>=1.30.0->azure-ai-inference) (3.10)',\n",
       " 'Requirement already satisfied: urllib3<3,>=1.21.1 in c:\\\\users\\\\anuj\\\\appdata\\\\local\\\\programs\\\\python\\\\python311\\\\lib\\\\site-packages (from requests>=2.21.0->azure-core>=1.30.0->azure-ai-inference) (2.4.0)',\n",
       " 'Requirement already satisfied: certifi>=2017.4.17 in c:\\\\users\\\\anuj\\\\appdata\\\\local\\\\programs\\\\python\\\\python311\\\\lib\\\\site-packages (from requests>=2.21.0->azure-core>=1.30.0->azure-ai-inference) (2025.4.26)',\n",
       " 'Using cached azure_ai_inference-1.0.0b9-py3-none-any.whl (124 kB)',\n",
       " 'Installing collected packages: azure-ai-inference',\n",
       " 'Successfully installed azure-ai-inference-1.0.0b9',\n",
       " '',\n",
       " '[notice] A new release of pip is available: 23.2.1 -> 25.1.1',\n",
       " '[notice] To update, run: python.exe -m pip install --upgrade pip']"
      ]
     },
     "execution_count": 1,
     "metadata": {},
     "output_type": "execute_result"
    }
   ],
   "source": [
    "!!pip install azure-ai-inference"
   ]
  },
  {
   "cell_type": "code",
   "execution_count": 2,
   "metadata": {},
   "outputs": [],
   "source": [
    "import os\n",
    "from dotenv import load_dotenv\n",
    "\n",
    "from autogen_agentchat.agents import AssistantAgent\n",
    "from autogen_core.models import UserMessage\n",
    "from autogen_ext.models.azure import AzureAIChatCompletionClient\n",
    "from azure.core.credentials import AzureKeyCredential\n",
    "from autogen_core import CancellationToken\n",
    "\n",
    "from autogen_agentchat.messages import TextMessage\n",
    "from autogen_agentchat.ui import Console"
   ]
  },
  {
   "cell_type": "markdown",
   "metadata": {},
   "source": [
    "## Create the Client \n",
    "\n",
    "In this sample, we will use [GitHub Models](https://aka.ms/ai-agents-beginners/github-models) for access to the LLM. \n",
    "\n",
    "The `model` is defined as `gpt-4o-mini`. Try changing the model to another model available on the GitHub Models marketplace to see the different results. \n",
    "\n",
    "As a quick test, we will just run a simple prompt - `What is the capital of France`. "
   ]
  },
  {
   "cell_type": "code",
   "execution_count": 3,
   "metadata": {},
   "outputs": [
    {
     "name": "stderr",
     "output_type": "stream",
     "text": [
      "c:\\Users\\Anuj\\AppData\\Local\\Programs\\Python\\Python311\\Lib\\site-packages\\autogen_ext\\models\\azure\\_azure_ai_client.py:305: UserWarning: Missing required field 'structured_output' in ModelInfo. This field will be required in a future version of AutoGen.\n",
      "  validate_model_info(config[\"model_info\"])\n"
     ]
    },
    {
     "name": "stdout",
     "output_type": "stream",
     "text": [
      "finish_reason='stop' content='The capital of France is Paris.' usage=RequestUsage(prompt_tokens=14, completion_tokens=8) cached=False logprobs=None thought=None\n"
     ]
    }
   ],
   "source": [
    "load_dotenv()\n",
    "client = AzureAIChatCompletionClient(\n",
    "    model=\"gpt-4o-mini\",\n",
    "    endpoint=\"https://models.inference.ai.azure.com\",\n",
    "    # To authenticate with the model you will need to generate a personal access token (PAT) in your GitHub settings.\n",
    "    # Create your PAT token by following instructions here: https://docs.github.com/en/authentication/keeping-your-account-and-data-secure/managing-your-personal-access-tokens\n",
    "    credential=AzureKeyCredential(os.getenv(\"GITHUB_TOKEN\")),\n",
    "    model_info={\n",
    "        \"json_output\": True,\n",
    "        \"function_calling\": True,\n",
    "        \"vision\": True,\n",
    "        \"family\": \"unknown\",\n",
    "    },\n",
    ")\n",
    "\n",
    "result = await client.create([UserMessage(content=\"What is the capital of France?\", source=\"user\")])\n",
    "print(result)"
   ]
  },
  {
   "cell_type": "markdown",
   "metadata": {},
   "source": [
    "## Defining the Agent \n",
    "\n",
    "Now that we have set up the `client` and confirmed that it is working, let us create an `AssistantAgent`. Each agent can be assigned a: \n",
    "**name** - A short hand name that will be useful in referencing it in multi-agent flows. \n",
    "**model_client** - The client that you created in the earlier step. \n",
    "**tools** - Available tools that the Agent can use to complete a task.\n",
    "**system_message** - The metaprompt that defines the task, behavior and tone of the LLM. \n",
    "\n",
    "You can change the system message to see how the LLM responds. We will cover `tools` in Lesson #4. \n"
   ]
  },
  {
   "cell_type": "code",
   "execution_count": 4,
   "metadata": {},
   "outputs": [],
   "source": [
    "agent = AssistantAgent(\n",
    "    name=\"assistant\",\n",
    "    model_client=client,\n",
    "    tools=[],\n",
    "    system_message=\"You are a travel agent that plans great vacations\",\n",
    ")"
   ]
  },
  {
   "cell_type": "markdown",
   "metadata": {},
   "source": [
    "## Run the Agent \n",
    "\n",
    "The below function will run the agent. We use the the `on_message` method to update the Agent's state with the new message. \n",
    "\n",
    "In this case, we update the state with a new message from the user which is `\"Plan me a great sunny vacation\"`.\n",
    "\n",
    "You can change the message content to see how the LLM responds differently. "
   ]
  },
  {
   "cell_type": "code",
   "execution_count": 5,
   "metadata": {},
   "outputs": [
    {
     "data": {
      "text/html": [
       "<div style='margin-bottom:10px'><div style='font-weight:bold'>User:</div><div style='margin-left:20px'>Plan me a great sunny vacation</div></div><div style='margin-bottom:20px'><div style='font-weight:bold'>Assistant:</div><div style='margin-left:20px; white-space:pre-wrap'>Absolutely! Here’s a plan for a fantastic sunny vacation that combines relaxation, adventure, and cultural experiences. You can choose from two options: a beach getaway or a tropical paradise.\n",
       "\n",
       "### Option 1: Beach Getaway in Maui, Hawaii\n",
       "\n",
       "**Duration:** 7 Days\n",
       "\n",
       "**When to Go:** April to October for the best weather\n",
       "\n",
       "**Itinerary:**\n",
       "\n",
       "**Day 1: Arrival in Maui**\n",
       "- Fly into Kahului Airport and rent a car.\n",
       "- Check in at a beachfront resort (consider the Hyatt Regency Maui or the Westin Maui Resort & Spa).\n",
       "- Relax on the beach and enjoy a welcome dinner at a local seafood restaurant.\n",
       "\n",
       "**Day 2: Road to Hana**\n",
       "- Take a scenic drive along the famous Road to Hana. Stop at waterfalls, black sand beaches, and charming local towns.\n",
       "- Have lunch at a roadside stand (try fresh coconut or banana bread).\n",
       "- Overnight in Hana to soak up the peaceful atmosphere.\n",
       "\n",
       "**Day 3: Haleakalā National Park**\n",
       "- Wake up early for a sunrise trip to Haleakalā Crater.\n",
       "- Spend the day hiking and exploring the park's unique landscapes (try the Sliding Sands Trail).\n",
       "- Return to your resort for a sunset dinner overlooking the ocean.\n",
       "\n",
       "**Day 4: Snorkeling in Molokini Crater**\n",
       "- Take a half-day snorkeling tour to the Molokini Crater, famous for its clear waters and vibrant marine life.\n",
       "- After snorkeling, head to Makena Beach for sunbathing and swimming.\n",
       "- Grab a casual dinner at a beach bar.\n",
       "\n",
       "**Day 5: Cultural Experience**\n",
       "- Visit the historic town of Lahaina. Explore shops and art galleries.\n",
       "- Enjoy a traditional Hawaiian luau in the evening, complete with food and hula performances.\n",
       "\n",
       "**Day 6: Relaxation and Spa Day**\n",
       "- Enjoy a day of relaxation at your resort. Book a spa treatment or spend time at the pool.\n",
       "- Take part in water activities like paddleboarding or kayaking.\n",
       "- Dinner at one of Maui’s top restaurants, like Mama's Fish House.\n",
       "\n",
       "**Day 7: Departure**\n",
       "- Relax in the morning and take a final stroll on the beach.\n",
       "- Return your rental car and fly home.\n",
       "\n",
       "---\n",
       "\n",
       "### Option 2: Tropical Paradise in Cancun, Mexico\n",
       "\n",
       "**Duration:** 5 Days\n",
       "\n",
       "**When to Go:** December to April for the best weather\n",
       "\n",
       "**Itinerary:**\n",
       "\n",
       "**Day 1: Arrival in Cancun**\n",
       "- Fly into Cancun International Airport and transfer to an all-inclusive resort (such as the Grand Fiesta Americana or Secrets The Vine).\n",
       "- Enjoy a welcome cocktail and relax by the pool or beach.\n",
       "\n",
       "**Day 2: Explore Tulum**\n",
       "- Take a day trip to Tulum. Visit the stunning cliffside Mayan ruins.\n",
       "- Spend the afternoon at a nearby beach (Tulum Beach) and enjoy lunch at a beach club.\n",
       "- Return to Cancun for dinner at a gourmet restaurant at your resort.\n",
       "\n",
       "**Day 3: Adventure and Nature**\n",
       "- Spend the day at Xcaret Park for eco-archaeological activities. Swim in underground rivers, see wildlife, and watch cultural performances.\n",
       "- Enjoy a buffet dinner at the park, then catch the grand evening show.\n",
       "\n",
       "**Day 4: Isla Mujeres**\n",
       "- Take a ferry to Isla Mujeres. Rent a golf cart to explore the island.\n",
       "- Visit the famous Playa Norte for swimming and sunbathing and grab lunch at a beachside restaurant.\n",
       "- Go snorkeling at Garrafon Natural Reef Park.\n",
       "\n",
       "**Day 5: Relaxation and Departure**\n",
       "- Enjoy a leisurely breakfast at your resort.\n",
       "- Spend your last hours by the pool or on the beach before packing.\n",
       "- Transfer back to the airport for your flight home.\n",
       "\n",
       "### Tips:\n",
       "- Make sure to check travel advisories and entry requirements for your destination.\n",
       "- Consider adding travel insurance for peace of mind.\n",
       "- Book everything in advance, especially for popular activities and restaurants.\n",
       "\n",
       "Let me know which option appeals to you more, or if you have any specific preferences I can incorporate!</div></div>"
      ],
      "text/plain": [
       "<IPython.core.display.HTML object>"
      ]
     },
     "metadata": {},
     "output_type": "display_data"
    }
   ],
   "source": [
    "from IPython.display import display, HTML\n",
    "\n",
    "\n",
    "async def assistant_run():\n",
    "    # Define the query\n",
    "    user_query = \"Plan me a great sunny vacation\"\n",
    "\n",
    "    # Start building HTML output\n",
    "    html_output = \"<div style='margin-bottom:10px'>\"\n",
    "    html_output += \"<div style='font-weight:bold'>User:</div>\"\n",
    "    html_output += f\"<div style='margin-left:20px'>{user_query}</div>\"\n",
    "    html_output += \"</div>\"\n",
    "\n",
    "    # Execute the agent response\n",
    "    response = await agent.on_messages(\n",
    "        [TextMessage(content=user_query, source=\"user\")],\n",
    "        cancellation_token=CancellationToken(),\n",
    "    )\n",
    "\n",
    "    # Add agent response to HTML\n",
    "    html_output += \"<div style='margin-bottom:20px'>\"\n",
    "    html_output += \"<div style='font-weight:bold'>Assistant:</div>\"\n",
    "    html_output += f\"<div style='margin-left:20px; white-space:pre-wrap'>{response.chat_message.content}</div>\"\n",
    "    html_output += \"</div>\"\n",
    "\n",
    "    # Display formatted HTML\n",
    "    display(HTML(html_output))\n",
    "\n",
    "# Run the function\n",
    "await assistant_run()"
   ]
  }
 ],
 "metadata": {
  "kernelspec": {
   "display_name": "Python 3",
   "language": "python",
   "name": "python3"
  },
  "language_info": {
   "codemirror_mode": {
    "name": "ipython",
    "version": 3
   },
   "file_extension": ".py",
   "mimetype": "text/x-python",
   "name": "python",
   "nbconvert_exporter": "python",
   "pygments_lexer": "ipython3",
   "version": "3.11.5"
  }
 },
 "nbformat": 4,
 "nbformat_minor": 2
}
